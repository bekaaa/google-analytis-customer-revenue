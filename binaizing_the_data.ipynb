{
 "cells": [
  {
   "cell_type": "code",
   "execution_count": 36,
   "metadata": {},
   "outputs": [],
   "source": [
    "import numpy as np\n",
    "import pandas as pd\n",
    "from itertools import zip_longest"
   ]
  },
  {
   "cell_type": "code",
   "execution_count": 2,
   "metadata": {},
   "outputs": [],
   "source": [
    "train = pd.read_hdf('data/ready_train.hdf')"
   ]
  },
  {
   "cell_type": "code",
   "execution_count": 59,
   "metadata": {},
   "outputs": [],
   "source": [
    "def binarize_feature(data, width):\n",
    "    bin_repr = pd.DataFrame(data=np.zeros((len(data),width), dtype=np.bool_))\n",
    "    for ind, e in enumerate(data):\n",
    "        binr = np.binary_repr(e, width)\n",
    "        for i in range(width):\n",
    "            bin_repr.at[ind,i] = int(binr[i])\n",
    "    return bin_repr\n",
    "#--------------------------------------------------------------\n",
    "train_bin = pd.DataFrame(index=range(len(train)))\n"
   ]
  },
  {
   "cell_type": "code",
   "execution_count": 56,
   "metadata": {},
   "outputs": [
    {
     "name": "stdout",
     "output_type": "stream",
     "text": [
      "CPU times: user 1min 57s, sys: 86 ms, total: 1min 57s\n",
      "Wall time: 1min 59s\n"
     ]
    }
   ],
   "source": [
    "%%time\n",
    "\n",
    "bin_repr = binarize_feature(train.channelGrouping, 3)\n",
    "train_bin = pd.concat((train_bin, bin_repr), axis=1)"
   ]
  },
  {
   "cell_type": "code",
   "execution_count": 61,
   "metadata": {},
   "outputs": [
    {
     "name": "stdout",
     "output_type": "stream",
     "text": [
      "CPU times: user 1min 38s, sys: 7.26 ms, total: 1min 38s\n",
      "Wall time: 1min 39s\n"
     ]
    }
   ],
   "source": [
    "%%time\n",
    "bin_repr = binarize_feature(train.medium, 3)\n",
    "train_bin = pd.concat((train_bin, bin_repr), axis=1)\n"
   ]
  },
  {
   "cell_type": "code",
   "execution_count": 63,
   "metadata": {},
   "outputs": [
    {
     "name": "stdout",
     "output_type": "stream",
     "text": [
      "CPU times: user 1min 39s, sys: 32.9 ms, total: 1min 39s\n",
      "Wall time: 1min 41s\n"
     ]
    }
   ],
   "source": [
    "%%time\n",
    "bin_repr = binarize_feature(train.continent, 3)\n",
    "train_bin = pd.concat((train_bin, bin_repr), axis=1)\n"
   ]
  },
  {
   "cell_type": "code",
   "execution_count": 64,
   "metadata": {},
   "outputs": [
    {
     "name": "stdout",
     "output_type": "stream",
     "text": [
      "CPU times: user 2min 42s, sys: 42.1 ms, total: 2min 42s\n",
      "Wall time: 2min 44s\n"
     ]
    }
   ],
   "source": [
    "%%time\n",
    "bin_repr = binarize_feature(train.subContinent, 5)\n",
    "train_bin = pd.concat((train_bin, bin_repr), axis=1)\n"
   ]
  },
  {
   "cell_type": "code",
   "execution_count": 65,
   "metadata": {},
   "outputs": [
    {
     "name": "stdout",
     "output_type": "stream",
     "text": [
      "CPU times: user 2min 14s, sys: 76.7 ms, total: 2min 14s\n",
      "Wall time: 2min 15s\n"
     ]
    }
   ],
   "source": [
    "%%time\n",
    "bin_repr = binarize_feature(train.browser, 4)\n",
    "train_bin = pd.concat((train_bin, bin_repr), axis=1)\n"
   ]
  },
  {
   "cell_type": "code",
   "execution_count": 66,
   "metadata": {},
   "outputs": [
    {
     "name": "stdout",
     "output_type": "stream",
     "text": [
      "CPU times: user 2min 40s, sys: 90.6 ms, total: 2min 40s\n",
      "Wall time: 2min 42s\n"
     ]
    }
   ],
   "source": [
    "%%time\n",
    "bin_repr = binarize_feature(train.operatingSystem, 5)\n",
    "train_bin = pd.concat((train_bin, bin_repr), axis=1)\n"
   ]
  },
  {
   "cell_type": "code",
   "execution_count": 67,
   "metadata": {},
   "outputs": [
    {
     "name": "stdout",
     "output_type": "stream",
     "text": [
      "CPU times: user 1min 11s, sys: 87.9 ms, total: 1min 11s\n",
      "Wall time: 1min 12s\n"
     ]
    }
   ],
   "source": [
    "%%time\n",
    "bin_repr = binarize_feature(train.deviceCategory, 2)\n",
    "train_bin = pd.concat((train_bin, bin_repr), axis=1)\n"
   ]
  },
  {
   "cell_type": "code",
   "execution_count": 86,
   "metadata": {},
   "outputs": [
    {
     "name": "stdout",
     "output_type": "stream",
     "text": [
      "CPU times: user 4min 34s, sys: 255 ms, total: 4min 34s\n",
      "Wall time: 4min 40s\n"
     ]
    }
   ],
   "source": [
    "%%time\n",
    "bin_repr = binarize_feature(train.country, 8)\n",
    "train_bin = pd.concat((train_bin, bin_repr), axis=1)\n"
   ]
  },
  {
   "cell_type": "markdown",
   "metadata": {},
   "source": [
    "-------------------"
   ]
  },
  {
   "cell_type": "code",
   "execution_count": 89,
   "metadata": {},
   "outputs": [],
   "source": [
    "# checkpoint 1\n",
    "train_bin.columns = range(len(train_bin.columns))\n",
    "train_bin.to_hdf('./data/ready_train_bin.hdf', key='binarizing1')"
   ]
  },
  {
   "cell_type": "code",
   "execution_count": 97,
   "metadata": {},
   "outputs": [],
   "source": [
    "# fix train.year from [ 2017 - 2016] to [1, 0]\n",
    "train.year = train.year.apply(lambda d : 1 if d == 2017 else 0 )\n",
    "train.visitNumber = np.log1p(train.visitNumber)\n",
    "train.hits = np.log1p(train.hits)\n",
    "train.pageviews = np.log1p(train.pageviews)\n",
    "train.dayOfYear = np.log1p(train.dayOfYear)\n",
    "train.target = np.log1p(train.target)\n",
    "\n",
    "train.to_hdf('./data/ready_train_fixed.hdf', key='fixed_year')"
   ]
  },
  {
   "cell_type": "code",
   "execution_count": 81,
   "metadata": {},
   "outputs": [],
   "source": [
    "# Merge binary features aswell\n",
    "train_bin = pd.concat((train_bin, train.bounces.astype(np.bool_)), axis=1)\n",
    "train_bin = pd.concat((train_bin, train.newVisits.astype(np.bool_)), axis=1)\n",
    "train_bin = pd.concat((train_bin, train.isTrueDirect.astype(np.bool_)), axis=1)\n",
    "train_bin = pd.concat((train_bin, train.isVideoAd.astype(np.bool_)), axis=1)\n",
    "train_bin = pd.concat((train_bin, train.year.astype(np.bool_)), axis=1)\n",
    "#---------------------------\n",
    "# checkpoint 2\n",
    "train_bin.columns = range(len(train_bin.columns))\n",
    "train_bin.to_hdf('./data/ready_train_bin.hdf', key='binarizing2')"
   ]
  },
  {
   "cell_type": "code",
   "execution_count": 90,
   "metadata": {},
   "outputs": [],
   "source": [
    "# Merge other integer columns\n",
    "train_bin = pd.concat((train_bin, train.visitNumber), axis=1)\n",
    "train_bin = pd.concat((train_bin, train.hits), axis=1)\n",
    "train_bin = pd.concat((train_bin, train.pageviews), axis=1)\n",
    "train_bin = pd.concat((train_bin, train.dayOfYear), axis=1)\n",
    "#---------------------------\n",
    "# checkpoint 3\n",
    "train_bin.columns = range(len(train_bin.columns))\n",
    "train_bin.to_hdf('./data/ready_train_bin.hdf', key='binarizing3')"
   ]
  },
  {
   "cell_type": "code",
   "execution_count": 92,
   "metadata": {
    "scrolled": true
   },
   "outputs": [],
   "source": [
    "# last step, add the target :\n",
    "train_bin = pd.concat((train_bin, train.target), axis=1)\n",
    "#-------------------------------\n",
    "train_bin.rename(columns={'target':-1}, inplace=True)\n",
    "# checkpoint 4 # last\n",
    "train_bin.to_hdf('./data/ready_train_bin.hdf', key='last')"
   ]
  },
  {
   "cell_type": "code",
   "execution_count": 96,
   "metadata": {},
   "outputs": [
    {
     "data": {
      "text/plain": [
       "(903653, 43)"
      ]
     },
     "execution_count": 96,
     "metadata": {},
     "output_type": "execute_result"
    }
   ],
   "source": [
    "train_bin.shape"
   ]
  },
  {
   "cell_type": "markdown",
   "metadata": {},
   "source": [
    "---------"
   ]
  }
 ],
 "metadata": {
  "kernelspec": {
   "display_name": "Python 3",
   "language": "python",
   "name": "python3"
  },
  "language_info": {
   "codemirror_mode": {
    "name": "ipython",
    "version": 3
   },
   "file_extension": ".py",
   "mimetype": "text/x-python",
   "name": "python",
   "nbconvert_exporter": "python",
   "pygments_lexer": "ipython3",
   "version": "3.6.5"
  }
 },
 "nbformat": 4,
 "nbformat_minor": 2
}
